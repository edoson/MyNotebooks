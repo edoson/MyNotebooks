{
 "cells": [
  {
   "cell_type": "code",
   "execution_count": 1,
   "metadata": {
    "collapsed": true
   },
   "outputs": [],
   "source": [
    "from pandas import *"
   ]
  },
  {
   "cell_type": "code",
   "execution_count": 18,
   "metadata": {},
   "outputs": [],
   "source": [
    "curr = read_csv('Curret_fullMV.csv', encoding='latin', low_memory=False)"
   ]
  },
  {
   "cell_type": "code",
   "execution_count": 30,
   "metadata": {},
   "outputs": [
    {
     "name": "stdout",
     "output_type": "stream",
     "text": [
      "<class 'pandas.core.frame.DataFrame'>\n",
      "RangeIndex: 30270 entries, 0 to 30269\n",
      "Columns: 106 entries, URL to Unnamed: 105\n",
      "dtypes: float64(1), object(105)\n",
      "memory usage: 24.5+ MB\n"
     ]
    }
   ],
   "source": [
    "curr.info()"
   ]
  },
  {
   "cell_type": "markdown",
   "metadata": {},
   "source": [
    "Look how many unused columns you have:"
   ]
  },
  {
   "cell_type": "code",
   "execution_count": 35,
   "metadata": {
    "scrolled": true
   },
   "outputs": [
    {
     "data": {
      "text/plain": [
       "Index(['2', '3', '4', '5', '6', '7', '8', '9', '10', '11', '12', '13', '14',\n",
       "       '15', '16', '17', '18', '19', '20', '21', '22', '23', '24', '25', '26',\n",
       "       '27', '28', '29', '30', '31', '32', '33', '34', '35', '36', '37', '38',\n",
       "       '39', '40', '41', '42', '43', '44', 'Unnamed: 49', 'Unnamed: 50',\n",
       "       'Unnamed: 51', 'Unnamed: 52', 'Unnamed: 53', 'Unnamed: 54',\n",
       "       'Unnamed: 55', 'Unnamed: 56', 'Unnamed: 57', 'Unnamed: 58',\n",
       "       'Unnamed: 59', 'Unnamed: 60', 'Unnamed: 61', 'Unnamed: 62',\n",
       "       'Unnamed: 63', 'Unnamed: 64', 'Unnamed: 65', 'Unnamed: 66',\n",
       "       'Unnamed: 67', 'Unnamed: 68', 'Unnamed: 69', 'Unnamed: 70',\n",
       "       'Unnamed: 71', 'Unnamed: 72', 'Unnamed: 73', 'Unnamed: 74',\n",
       "       'Unnamed: 75', 'Unnamed: 76', 'Unnamed: 77', 'Unnamed: 78',\n",
       "       'Unnamed: 79', 'Unnamed: 80', 'Unnamed: 81', 'Unnamed: 82',\n",
       "       'Unnamed: 83', 'Unnamed: 84', 'Unnamed: 85', 'Unnamed: 86',\n",
       "       'Unnamed: 87', 'Unnamed: 88', 'Unnamed: 89', 'Unnamed: 90',\n",
       "       'Unnamed: 91', 'Unnamed: 92', 'Unnamed: 93', 'Unnamed: 94',\n",
       "       'Unnamed: 95', 'Unnamed: 96', 'Unnamed: 97', 'Unnamed: 98',\n",
       "       'Unnamed: 99', 'Unnamed: 100', 'Unnamed: 101', 'Unnamed: 102',\n",
       "       'Unnamed: 103', 'Unnamed: 104', 'Unnamed: 105'],\n",
       "      dtype='object')"
      ]
     },
     "execution_count": 35,
     "metadata": {},
     "output_type": "execute_result"
    }
   ],
   "source": [
    "cols = curr.columns\n",
    "cols[-100:]"
   ]
  },
  {
   "cell_type": "code",
   "execution_count": 25,
   "metadata": {},
   "outputs": [
    {
     "data": {
      "text/plain": [
       "57"
      ]
     },
     "execution_count": 25,
     "metadata": {},
     "output_type": "execute_result"
    }
   ],
   "source": [
    "unamed_col = [col for col in curr.columns if 'Unnamed' in col]\n",
    "len(unamed_col)"
   ]
  },
  {
   "cell_type": "code",
   "execution_count": 31,
   "metadata": {},
   "outputs": [
    {
     "data": {
      "text/html": [
       "<div>\n",
       "<style>\n",
       "    .dataframe thead tr:only-child th {\n",
       "        text-align: right;\n",
       "    }\n",
       "\n",
       "    .dataframe thead th {\n",
       "        text-align: left;\n",
       "    }\n",
       "\n",
       "    .dataframe tbody tr th {\n",
       "        vertical-align: top;\n",
       "    }\n",
       "</style>\n",
       "<table border=\"1\" class=\"dataframe\">\n",
       "  <thead>\n",
       "    <tr style=\"text-align: right;\">\n",
       "      <th></th>\n",
       "      <th>Unnamed: 49</th>\n",
       "      <th>Unnamed: 50</th>\n",
       "      <th>Unnamed: 51</th>\n",
       "      <th>Unnamed: 52</th>\n",
       "      <th>Unnamed: 53</th>\n",
       "      <th>Unnamed: 54</th>\n",
       "      <th>Unnamed: 55</th>\n",
       "      <th>Unnamed: 56</th>\n",
       "      <th>Unnamed: 57</th>\n",
       "      <th>Unnamed: 58</th>\n",
       "      <th>...</th>\n",
       "      <th>Unnamed: 96</th>\n",
       "      <th>Unnamed: 97</th>\n",
       "      <th>Unnamed: 98</th>\n",
       "      <th>Unnamed: 99</th>\n",
       "      <th>Unnamed: 100</th>\n",
       "      <th>Unnamed: 101</th>\n",
       "      <th>Unnamed: 102</th>\n",
       "      <th>Unnamed: 103</th>\n",
       "      <th>Unnamed: 104</th>\n",
       "      <th>Unnamed: 105</th>\n",
       "    </tr>\n",
       "  </thead>\n",
       "  <tbody>\n",
       "    <tr>\n",
       "      <th>0</th>\n",
       "      <td>NaN</td>\n",
       "      <td>NaN</td>\n",
       "      <td>NaN</td>\n",
       "      <td>NaN</td>\n",
       "      <td>NaN</td>\n",
       "      <td>NaN</td>\n",
       "      <td>NaN</td>\n",
       "      <td>NaN</td>\n",
       "      <td>NaN</td>\n",
       "      <td>NaN</td>\n",
       "      <td>...</td>\n",
       "      <td>NaN</td>\n",
       "      <td>NaN</td>\n",
       "      <td>NaN</td>\n",
       "      <td>NaN</td>\n",
       "      <td>NaN</td>\n",
       "      <td>NaN</td>\n",
       "      <td>NaN</td>\n",
       "      <td>NaN</td>\n",
       "      <td>NaN</td>\n",
       "      <td>NaN</td>\n",
       "    </tr>\n",
       "    <tr>\n",
       "      <th>1</th>\n",
       "      <td>NaN</td>\n",
       "      <td>NaN</td>\n",
       "      <td>NaN</td>\n",
       "      <td>NaN</td>\n",
       "      <td>NaN</td>\n",
       "      <td>NaN</td>\n",
       "      <td>NaN</td>\n",
       "      <td>NaN</td>\n",
       "      <td>NaN</td>\n",
       "      <td>NaN</td>\n",
       "      <td>...</td>\n",
       "      <td>NaN</td>\n",
       "      <td>NaN</td>\n",
       "      <td>NaN</td>\n",
       "      <td>NaN</td>\n",
       "      <td>NaN</td>\n",
       "      <td>NaN</td>\n",
       "      <td>NaN</td>\n",
       "      <td>NaN</td>\n",
       "      <td>NaN</td>\n",
       "      <td>NaN</td>\n",
       "    </tr>\n",
       "    <tr>\n",
       "      <th>2</th>\n",
       "      <td>NaN</td>\n",
       "      <td>NaN</td>\n",
       "      <td>NaN</td>\n",
       "      <td>NaN</td>\n",
       "      <td>NaN</td>\n",
       "      <td>NaN</td>\n",
       "      <td>NaN</td>\n",
       "      <td>NaN</td>\n",
       "      <td>NaN</td>\n",
       "      <td>NaN</td>\n",
       "      <td>...</td>\n",
       "      <td>NaN</td>\n",
       "      <td>NaN</td>\n",
       "      <td>NaN</td>\n",
       "      <td>NaN</td>\n",
       "      <td>NaN</td>\n",
       "      <td>NaN</td>\n",
       "      <td>NaN</td>\n",
       "      <td>NaN</td>\n",
       "      <td>NaN</td>\n",
       "      <td>NaN</td>\n",
       "    </tr>\n",
       "    <tr>\n",
       "      <th>3</th>\n",
       "      <td>NaN</td>\n",
       "      <td>NaN</td>\n",
       "      <td>NaN</td>\n",
       "      <td>NaN</td>\n",
       "      <td>NaN</td>\n",
       "      <td>NaN</td>\n",
       "      <td>NaN</td>\n",
       "      <td>NaN</td>\n",
       "      <td>NaN</td>\n",
       "      <td>NaN</td>\n",
       "      <td>...</td>\n",
       "      <td>NaN</td>\n",
       "      <td>NaN</td>\n",
       "      <td>NaN</td>\n",
       "      <td>NaN</td>\n",
       "      <td>NaN</td>\n",
       "      <td>NaN</td>\n",
       "      <td>NaN</td>\n",
       "      <td>NaN</td>\n",
       "      <td>NaN</td>\n",
       "      <td>NaN</td>\n",
       "    </tr>\n",
       "    <tr>\n",
       "      <th>4</th>\n",
       "      <td>NaN</td>\n",
       "      <td>NaN</td>\n",
       "      <td>NaN</td>\n",
       "      <td>NaN</td>\n",
       "      <td>NaN</td>\n",
       "      <td>NaN</td>\n",
       "      <td>NaN</td>\n",
       "      <td>NaN</td>\n",
       "      <td>NaN</td>\n",
       "      <td>NaN</td>\n",
       "      <td>...</td>\n",
       "      <td>NaN</td>\n",
       "      <td>NaN</td>\n",
       "      <td>NaN</td>\n",
       "      <td>NaN</td>\n",
       "      <td>NaN</td>\n",
       "      <td>NaN</td>\n",
       "      <td>NaN</td>\n",
       "      <td>NaN</td>\n",
       "      <td>NaN</td>\n",
       "      <td>NaN</td>\n",
       "    </tr>\n",
       "  </tbody>\n",
       "</table>\n",
       "<p>5 rows × 57 columns</p>\n",
       "</div>"
      ],
      "text/plain": [
       "  Unnamed: 49 Unnamed: 50 Unnamed: 51 Unnamed: 52 Unnamed: 53 Unnamed: 54  \\\n",
       "0         NaN         NaN         NaN         NaN         NaN         NaN   \n",
       "1         NaN         NaN         NaN         NaN         NaN         NaN   \n",
       "2         NaN         NaN         NaN         NaN         NaN         NaN   \n",
       "3         NaN         NaN         NaN         NaN         NaN         NaN   \n",
       "4         NaN         NaN         NaN         NaN         NaN         NaN   \n",
       "\n",
       "  Unnamed: 55 Unnamed: 56 Unnamed: 57 Unnamed: 58     ...      Unnamed: 96  \\\n",
       "0         NaN         NaN         NaN         NaN     ...              NaN   \n",
       "1         NaN         NaN         NaN         NaN     ...              NaN   \n",
       "2         NaN         NaN         NaN         NaN     ...              NaN   \n",
       "3         NaN         NaN         NaN         NaN     ...              NaN   \n",
       "4         NaN         NaN         NaN         NaN     ...              NaN   \n",
       "\n",
       "  Unnamed: 97 Unnamed: 98 Unnamed: 99 Unnamed: 100 Unnamed: 101 Unnamed: 102  \\\n",
       "0         NaN         NaN         NaN          NaN          NaN          NaN   \n",
       "1         NaN         NaN         NaN          NaN          NaN          NaN   \n",
       "2         NaN         NaN         NaN          NaN          NaN          NaN   \n",
       "3         NaN         NaN         NaN          NaN          NaN          NaN   \n",
       "4         NaN         NaN         NaN          NaN          NaN          NaN   \n",
       "\n",
       "  Unnamed: 103 Unnamed: 104 Unnamed: 105  \n",
       "0          NaN          NaN          NaN  \n",
       "1          NaN          NaN          NaN  \n",
       "2          NaN          NaN          NaN  \n",
       "3          NaN          NaN          NaN  \n",
       "4          NaN          NaN          NaN  \n",
       "\n",
       "[5 rows x 57 columns]"
      ]
     },
     "execution_count": 31,
     "metadata": {},
     "output_type": "execute_result"
    }
   ],
   "source": [
    "curr[unamed_col].head()"
   ]
  },
  {
   "cell_type": "markdown",
   "metadata": {},
   "source": [
    "## Columns with only null values"
   ]
  },
  {
   "cell_type": "markdown",
   "metadata": {},
   "source": [
    "your dataframed size is 30270 rows. amount of null values in each column:"
   ]
  },
  {
   "cell_type": "code",
   "execution_count": 40,
   "metadata": {},
   "outputs": [
    {
     "data": {
      "text/plain": [
       "URL                   23507\n",
       "CANONICAL NAME            0\n",
       "LONG DISPLAY NAME         0\n",
       "SHORT DISPLAY NAME        0\n",
       "FULL NAME                 1\n",
       "1                      9890\n",
       "2                     24390\n",
       "3                     27619\n",
       "4                     28788\n",
       "5                     29398\n",
       "6                     29705\n",
       "7                     29906\n",
       "8                     30019\n",
       "9                     30072\n",
       "10                    30123\n",
       "11                    30161\n",
       "12                    30175\n",
       "13                    30195\n",
       "14                    30209\n",
       "15                    30224\n",
       "16                    30231\n",
       "17                    30233\n",
       "18                    30235\n",
       "19                    30235\n",
       "20                    30239\n",
       "21                    30243\n",
       "22                    30250\n",
       "23                    30253\n",
       "24                    30255\n",
       "25                    30257\n",
       "                      ...  \n",
       "Unnamed: 76           30269\n",
       "Unnamed: 77           30269\n",
       "Unnamed: 78           30269\n",
       "Unnamed: 79           30269\n",
       "Unnamed: 80           30269\n",
       "Unnamed: 81           30269\n",
       "Unnamed: 82           30269\n",
       "Unnamed: 83           30269\n",
       "Unnamed: 84           30269\n",
       "Unnamed: 85           30269\n",
       "Unnamed: 86           30269\n",
       "Unnamed: 87           30269\n",
       "Unnamed: 88           30269\n",
       "Unnamed: 89           30269\n",
       "Unnamed: 90           30269\n",
       "Unnamed: 91           30269\n",
       "Unnamed: 92           30269\n",
       "Unnamed: 93           30269\n",
       "Unnamed: 94           30269\n",
       "Unnamed: 95           30269\n",
       "Unnamed: 96           30269\n",
       "Unnamed: 97           30269\n",
       "Unnamed: 98           30269\n",
       "Unnamed: 99           30269\n",
       "Unnamed: 100          30270\n",
       "Unnamed: 101          30269\n",
       "Unnamed: 102          30269\n",
       "Unnamed: 103          30269\n",
       "Unnamed: 104          30269\n",
       "Unnamed: 105          30269\n",
       "Length: 106, dtype: int64"
      ]
     },
     "execution_count": 40,
     "metadata": {},
     "output_type": "execute_result"
    }
   ],
   "source": [
    "curr.isnull().sum()"
   ]
  },
  {
   "cell_type": "markdown",
   "metadata": {},
   "source": [
    "So you have dozens of rows containing only one value. Looking at those:"
   ]
  },
  {
   "cell_type": "code",
   "execution_count": 51,
   "metadata": {},
   "outputs": [
    {
     "data": {
      "text/html": [
       "<div>\n",
       "<style>\n",
       "    .dataframe thead tr:only-child th {\n",
       "        text-align: right;\n",
       "    }\n",
       "\n",
       "    .dataframe thead th {\n",
       "        text-align: left;\n",
       "    }\n",
       "\n",
       "    .dataframe tbody tr th {\n",
       "        vertical-align: top;\n",
       "    }\n",
       "</style>\n",
       "<table border=\"1\" class=\"dataframe\">\n",
       "  <thead>\n",
       "    <tr style=\"text-align: right;\">\n",
       "      <th></th>\n",
       "      <th>URL</th>\n",
       "      <th>CANONICAL NAME</th>\n",
       "      <th>LONG DISPLAY NAME</th>\n",
       "      <th>SHORT DISPLAY NAME</th>\n",
       "      <th>FULL NAME</th>\n",
       "      <th>1</th>\n",
       "      <th>2</th>\n",
       "      <th>3</th>\n",
       "      <th>4</th>\n",
       "      <th>5</th>\n",
       "      <th>...</th>\n",
       "      <th>Unnamed: 96</th>\n",
       "      <th>Unnamed: 97</th>\n",
       "      <th>Unnamed: 98</th>\n",
       "      <th>Unnamed: 99</th>\n",
       "      <th>Unnamed: 100</th>\n",
       "      <th>Unnamed: 101</th>\n",
       "      <th>Unnamed: 102</th>\n",
       "      <th>Unnamed: 103</th>\n",
       "      <th>Unnamed: 104</th>\n",
       "      <th>Unnamed: 105</th>\n",
       "    </tr>\n",
       "  </thead>\n",
       "  <tbody>\n",
       "    <tr>\n",
       "      <th>10150</th>\n",
       "      <td>NaN</td>\n",
       "      <td>FinnMedi Oy</td>\n",
       "      <td>FinnMedi Oy</td>\n",
       "      <td>FinnMedi Oy</td>\n",
       "      <td>FinnMedi Oy</td>\n",
       "      <td>@@FinnMedi</td>\n",
       "      <td>NaN</td>\n",
       "      <td>NaN</td>\n",
       "      <td>NaN</td>\n",
       "      <td>NaN</td>\n",
       "      <td>...</td>\n",
       "      <td>NaN</td>\n",
       "      <td>NaN</td>\n",
       "      <td>NaN</td>\n",
       "      <td>NaN</td>\n",
       "      <td>NaN</td>\n",
       "      <td>Scientific Products (Asia Pacific)</td>\n",
       "      <td>Fisher Worldwide Distribution SPV</td>\n",
       "      <td>Fisher Worldwide Gene Distribution SPV</td>\n",
       "      <td>Fisher WWD Holdings L.L.C.</td>\n",
       "      <td>New FS Holdings Inc.</td>\n",
       "    </tr>\n",
       "  </tbody>\n",
       "</table>\n",
       "<p>1 rows × 106 columns</p>\n",
       "</div>"
      ],
      "text/plain": [
       "       URL CANONICAL NAME LONG DISPLAY NAME SHORT DISPLAY NAME    FULL NAME  \\\n",
       "10150  NaN    FinnMedi Oy       FinnMedi Oy        FinnMedi Oy  FinnMedi Oy   \n",
       "\n",
       "                1    2    3    4    5          ...          Unnamed: 96  \\\n",
       "10150  @@FinnMedi  NaN  NaN  NaN  NaN          ...                  NaN   \n",
       "\n",
       "      Unnamed: 97 Unnamed: 98 Unnamed: 99 Unnamed: 100  \\\n",
       "10150         NaN         NaN         NaN          NaN   \n",
       "\n",
       "                              Unnamed: 101                       Unnamed: 102  \\\n",
       "10150  Scientific Products (Asia Pacific)   Fisher Worldwide Distribution SPV   \n",
       "\n",
       "                                 Unnamed: 103                Unnamed: 104  \\\n",
       "10150  Fisher Worldwide Gene Distribution SPV  Fisher WWD Holdings L.L.C.   \n",
       "\n",
       "               Unnamed: 105  \n",
       "10150  New FS Holdings Inc.  \n",
       "\n",
       "[1 rows x 106 columns]"
      ]
     },
     "execution_count": 51,
     "metadata": {},
     "output_type": "execute_result"
    }
   ],
   "source": [
    "curr[~curr['Unnamed: 105'].isnull()][-5:]"
   ]
  },
  {
   "cell_type": "code",
   "execution_count": 49,
   "metadata": {},
   "outputs": [
    {
     "data": {
      "text/html": [
       "<div>\n",
       "<style>\n",
       "    .dataframe thead tr:only-child th {\n",
       "        text-align: right;\n",
       "    }\n",
       "\n",
       "    .dataframe thead th {\n",
       "        text-align: left;\n",
       "    }\n",
       "\n",
       "    .dataframe tbody tr th {\n",
       "        vertical-align: top;\n",
       "    }\n",
       "</style>\n",
       "<table border=\"1\" class=\"dataframe\">\n",
       "  <thead>\n",
       "    <tr style=\"text-align: right;\">\n",
       "      <th></th>\n",
       "      <th>URL</th>\n",
       "      <th>CANONICAL NAME</th>\n",
       "      <th>LONG DISPLAY NAME</th>\n",
       "      <th>SHORT DISPLAY NAME</th>\n",
       "      <th>FULL NAME</th>\n",
       "      <th>1</th>\n",
       "      <th>2</th>\n",
       "      <th>3</th>\n",
       "      <th>4</th>\n",
       "      <th>5</th>\n",
       "      <th>...</th>\n",
       "      <th>Unnamed: 96</th>\n",
       "      <th>Unnamed: 97</th>\n",
       "      <th>Unnamed: 98</th>\n",
       "      <th>Unnamed: 99</th>\n",
       "      <th>Unnamed: 100</th>\n",
       "      <th>Unnamed: 101</th>\n",
       "      <th>Unnamed: 102</th>\n",
       "      <th>Unnamed: 103</th>\n",
       "      <th>Unnamed: 104</th>\n",
       "      <th>Unnamed: 105</th>\n",
       "    </tr>\n",
       "  </thead>\n",
       "  <tbody>\n",
       "    <tr>\n",
       "      <th>10206</th>\n",
       "      <td>https://www.fishersci.com/us/en/catalog/search...</td>\n",
       "      <td>Fisher Scientific</td>\n",
       "      <td>Fisher Scientific</td>\n",
       "      <td>Fisher Scientific</td>\n",
       "      <td>Fisher Scientific Company, LLC</td>\n",
       "      <td>fisher scientific</td>\n",
       "      <td>fisher sci company</td>\n",
       "      <td>Fisher Chemical</td>\n",
       "      <td>Consultores Fisher Scientific Chile Ltd</td>\n",
       "      <td>FisherScientific</td>\n",
       "      <td>...</td>\n",
       "      <td>FSUK Holdings Limited</td>\n",
       "      <td>FSWH Company LLC</td>\n",
       "      <td>FSWH II C.V.</td>\n",
       "      <td>Scientific Products (India)</td>\n",
       "      <td>NaN</td>\n",
       "      <td>NaN</td>\n",
       "      <td>NaN</td>\n",
       "      <td>NaN</td>\n",
       "      <td>NaN</td>\n",
       "      <td>NaN</td>\n",
       "    </tr>\n",
       "  </tbody>\n",
       "</table>\n",
       "<p>1 rows × 106 columns</p>\n",
       "</div>"
      ],
      "text/plain": [
       "                                                     URL     CANONICAL NAME  \\\n",
       "10206  https://www.fishersci.com/us/en/catalog/search...  Fisher Scientific   \n",
       "\n",
       "       LONG DISPLAY NAME SHORT DISPLAY NAME                       FULL NAME  \\\n",
       "10206  Fisher Scientific  Fisher Scientific  Fisher Scientific Company, LLC   \n",
       "\n",
       "                       1                    2                3  \\\n",
       "10206  fisher scientific  fisher sci company   Fisher Chemical   \n",
       "\n",
       "                                             4                 5     ...       \\\n",
       "10206  Consultores Fisher Scientific Chile Ltd  FisherScientific     ...        \n",
       "\n",
       "                 Unnamed: 96       Unnamed: 97   Unnamed: 98  \\\n",
       "10206  FSUK Holdings Limited  FSWH Company LLC  FSWH II C.V.   \n",
       "\n",
       "                        Unnamed: 99 Unnamed: 100 Unnamed: 101 Unnamed: 102  \\\n",
       "10206  Scientific Products (India)           NaN          NaN          NaN   \n",
       "\n",
       "      Unnamed: 103 Unnamed: 104 Unnamed: 105  \n",
       "10206          NaN          NaN          NaN  \n",
       "\n",
       "[1 rows x 106 columns]"
      ]
     },
     "execution_count": 49,
     "metadata": {},
     "output_type": "execute_result"
    }
   ],
   "source": [
    "curr[~curr['Unnamed: 99'].isnull()]"
   ]
  },
  {
   "cell_type": "markdown",
   "metadata": {},
   "source": [
    "Tons of garbage. To clean, google \"drop null columns pandas\" and see the dropna method."
   ]
  },
  {
   "cell_type": "code",
   "execution_count": 56,
   "metadata": {},
   "outputs": [],
   "source": [
    "to_cut_out = read_csv('WantToCutOut_fromOldMV.csv')"
   ]
  },
  {
   "cell_type": "code",
   "execution_count": 57,
   "metadata": {},
   "outputs": [
    {
     "name": "stdout",
     "output_type": "stream",
     "text": [
      "<class 'pandas.core.frame.DataFrame'>\n",
      "RangeIndex: 22794 entries, 0 to 22793\n",
      "Data columns (total 9 columns):\n",
      "source                22794 non-null object\n",
      "URL                   248 non-null object\n",
      "CANONICAL NAME        22794 non-null object\n",
      "LONG DISPLAY NAME     22794 non-null object\n",
      "SHORT DISPLAY NAME    22794 non-null object\n",
      "FULL NAME             22794 non-null object\n",
      "1                     12996 non-null object\n",
      "2                     224 non-null object\n",
      "3                     15 non-null object\n",
      "dtypes: object(9)\n",
      "memory usage: 1.6+ MB\n"
     ]
    }
   ],
   "source": [
    "to_cut_out.info()"
   ]
  },
  {
   "cell_type": "code",
   "execution_count": 59,
   "metadata": {},
   "outputs": [
    {
     "name": "stdout",
     "output_type": "stream",
     "text": [
      "<class 'pandas.core.frame.DataFrame'>\n",
      "RangeIndex: 10367 entries, 0 to 10366\n",
      "Data columns (total 50 columns):\n",
      "sorce                 10367 non-null object\n",
      "URL                   6554 non-null object\n",
      "CANONICAL NAME        10367 non-null object\n",
      "LONG DISPLAY NAME     10367 non-null object\n",
      "SHORT DISPLAY NAME    10367 non-null object\n",
      "FULL NAME             10367 non-null object\n",
      "1                     6778 non-null object\n",
      "2                     3854 non-null object\n",
      "3                     2395 non-null object\n",
      "4                     1425 non-null object\n",
      "5                     840 non-null object\n",
      "6                     546 non-null object\n",
      "7                     341 non-null object\n",
      "8                     229 non-null object\n",
      "9                     181 non-null object\n",
      "10                    138 non-null object\n",
      "11                    104 non-null object\n",
      "12                    86 non-null object\n",
      "13                    67 non-null object\n",
      "14                    57 non-null object\n",
      "15                    43 non-null object\n",
      "16                    35 non-null object\n",
      "17                    31 non-null object\n",
      "18                    33 non-null object\n",
      "19                    30 non-null object\n",
      "20                    27 non-null object\n",
      "21                    22 non-null object\n",
      "22                    17 non-null object\n",
      "23                    15 non-null object\n",
      "24                    12 non-null object\n",
      "25                    10 non-null object\n",
      "26                    9 non-null object\n",
      "27                    8 non-null object\n",
      "28                    6 non-null object\n",
      "29                    6 non-null object\n",
      "30                    6 non-null object\n",
      "31                    6 non-null object\n",
      "32                    5 non-null object\n",
      "33                    5 non-null object\n",
      "34                    4 non-null object\n",
      "35                    5 non-null object\n",
      "36                    3 non-null object\n",
      "37                    2 non-null object\n",
      "38                    2 non-null object\n",
      "39                    1 non-null object\n",
      "40                    1 non-null object\n",
      "41                    1 non-null object\n",
      "42                    1 non-null object\n",
      "43                    1 non-null object\n",
      "44                    0 non-null float64\n",
      "dtypes: float64(1), object(49)\n",
      "memory usage: 4.0+ MB\n"
     ]
    }
   ],
   "source": [
    "to_keep = read_csv('WantToKeepMostClean_fromOldMV.csv', sep = '\\t')\n",
    "to_keep.info()"
   ]
  },
  {
   "cell_type": "markdown",
   "metadata": {},
   "source": [
    "# Shapes (num rows and columns)"
   ]
  },
  {
   "cell_type": "code",
   "execution_count": 61,
   "metadata": {},
   "outputs": [
    {
     "data": {
      "text/plain": [
       "(30270, 106)"
      ]
     },
     "execution_count": 61,
     "metadata": {},
     "output_type": "execute_result"
    }
   ],
   "source": [
    "curr.shape"
   ]
  },
  {
   "cell_type": "code",
   "execution_count": 62,
   "metadata": {},
   "outputs": [
    {
     "data": {
      "text/plain": [
       "(22794, 9)"
      ]
     },
     "execution_count": 62,
     "metadata": {},
     "output_type": "execute_result"
    }
   ],
   "source": [
    "to_cut_out.shape"
   ]
  },
  {
   "cell_type": "code",
   "execution_count": 63,
   "metadata": {},
   "outputs": [
    {
     "data": {
      "text/plain": [
       "(10367, 50)"
      ]
     },
     "execution_count": 63,
     "metadata": {},
     "output_type": "execute_result"
    }
   ],
   "source": [
    "to_keep.shape"
   ]
  },
  {
   "cell_type": "markdown",
   "metadata": {},
   "source": [
    "# Finding what's common and what's not"
   ]
  },
  {
   "cell_type": "code",
   "execution_count": 65,
   "metadata": {},
   "outputs": [
    {
     "data": {
      "text/plain": [
       "0                [iito]\n",
       "1       1 A Pharma GmbH\n",
       "2          10X Genomics\n",
       "3           121 Bio LLC\n",
       "4    13therapeutics Inc\n",
       "Name: CANONICAL NAME, dtype: object"
      ]
     },
     "execution_count": 65,
     "metadata": {},
     "output_type": "execute_result"
    }
   ],
   "source": [
    "join_col = 'CANONICAL NAME'\n",
    "curr[join_col].head()"
   ]
  },
  {
   "cell_type": "markdown",
   "metadata": {},
   "source": [
    "## To keep"
   ]
  },
  {
   "cell_type": "markdown",
   "metadata": {},
   "source": [
    "Number of Names in \"to keep\" that are also in curr"
   ]
  },
  {
   "cell_type": "code",
   "execution_count": 75,
   "metadata": {},
   "outputs": [
    {
     "data": {
      "text/plain": [
       "(10179, 10367)"
      ]
     },
     "execution_count": 75,
     "metadata": {},
     "output_type": "execute_result"
    }
   ],
   "source": [
    "to_keep[join_col].isin(curr[join_col]).sum(), len(to_keep)"
   ]
  },
  {
   "cell_type": "code",
   "execution_count": 72,
   "metadata": {},
   "outputs": [],
   "source": [
    "to_keep['isInCurr'] = to_keep[join_col].isin(curr[join_col])"
   ]
  },
  {
   "cell_type": "markdown",
   "metadata": {},
   "source": [
    "So some companies in \"to_keep\" are not in curr. These companies are:"
   ]
  },
  {
   "cell_type": "code",
   "execution_count": 77,
   "metadata": {},
   "outputs": [
    {
     "data": {
      "text/plain": [
       "17            Fisher BioImage ApS\n",
       "20               Coris BioConcept\n",
       "71    Advanced Targeting Systems \n",
       "73             AdvaTec Analytics \n",
       "74                        AE Adam\n",
       "Name: CANONICAL NAME, dtype: object"
      ]
     },
     "execution_count": 77,
     "metadata": {},
     "output_type": "execute_result"
    }
   ],
   "source": [
    "to_keep.query('isInCurr == False')[join_col].head()"
   ]
  },
  {
   "cell_type": "markdown",
   "metadata": {},
   "source": [
    "## to cut out"
   ]
  },
  {
   "cell_type": "code",
   "execution_count": 78,
   "metadata": {},
   "outputs": [
    {
     "data": {
      "text/plain": [
       "(20165, 22794)"
      ]
     },
     "execution_count": 78,
     "metadata": {},
     "output_type": "execute_result"
    }
   ],
   "source": [
    "to_cut_out[join_col].isin(curr[join_col]).sum(), len(to_cut_out)"
   ]
  },
  {
   "cell_type": "code",
   "execution_count": 74,
   "metadata": {
    "collapsed": true
   },
   "outputs": [],
   "source": [
    "to_cut_out['isInCurr'] = to_cut_out[join_col].isin(curr[join_col])"
   ]
  },
  {
   "cell_type": "code",
   "execution_count": 79,
   "metadata": {},
   "outputs": [
    {
     "data": {
      "text/plain": [
       "0          DePuy\n",
       "1     13advisory\n",
       "3         2cureX\n",
       "7      4P-Pharma\n",
       "10      A-Filter\n",
       "Name: CANONICAL NAME, dtype: object"
      ]
     },
     "execution_count": 79,
     "metadata": {},
     "output_type": "execute_result"
    }
   ],
   "source": [
    "to_cut_out.query('isInCurr == False')[join_col].head()"
   ]
  },
  {
   "cell_type": "markdown",
   "metadata": {},
   "source": [
    "## current file"
   ]
  },
  {
   "cell_type": "markdown",
   "metadata": {},
   "source": [
    "In curr and in \"to keep\""
   ]
  },
  {
   "cell_type": "code",
   "execution_count": 83,
   "metadata": {},
   "outputs": [
    {
     "data": {
      "text/plain": [
       "(10173, 30270)"
      ]
     },
     "execution_count": 83,
     "metadata": {},
     "output_type": "execute_result"
    }
   ],
   "source": [
    "curr[join_col].isin(to_keep[join_col]).sum(), len(curr)"
   ]
  },
  {
   "cell_type": "markdown",
   "metadata": {},
   "source": [
    "In curr and in \"to_cut_out\":"
   ]
  },
  {
   "cell_type": "code",
   "execution_count": 84,
   "metadata": {},
   "outputs": [
    {
     "data": {
      "text/plain": [
       "(18806, 30270)"
      ]
     },
     "execution_count": 84,
     "metadata": {},
     "output_type": "execute_result"
    }
   ],
   "source": [
    "curr[join_col].isin(to_cut_out[join_col]).sum(), len(curr)"
   ]
  },
  {
   "cell_type": "code",
   "execution_count": 85,
   "metadata": {},
   "outputs": [
    {
     "data": {
      "text/plain": [
       "18806"
      ]
     },
     "execution_count": 85,
     "metadata": {},
     "output_type": "execute_result"
    }
   ],
   "source": [
    "curr['toCutOut'] = curr[join_col].isin(to_cut_out[join_col])\n",
    "curr['toCutOut'].sum()"
   ]
  },
  {
   "cell_type": "code",
   "execution_count": 86,
   "metadata": {},
   "outputs": [
    {
     "data": {
      "text/plain": [
       "10173"
      ]
     },
     "execution_count": 86,
     "metadata": {},
     "output_type": "execute_result"
    }
   ],
   "source": [
    "curr['toKeep'] = curr[join_col].isin(to_keep[join_col])\n",
    "curr['toKeep'].sum()"
   ]
  },
  {
   "cell_type": "markdown",
   "metadata": {},
   "source": [
    "Compenies in current that are in to keep or to cut out:"
   ]
  },
  {
   "cell_type": "code",
   "execution_count": 89,
   "metadata": {},
   "outputs": [
    {
     "data": {
      "text/plain": [
       "(28963, 30270)"
      ]
     },
     "execution_count": 89,
     "metadata": {},
     "output_type": "execute_result"
    }
   ],
   "source": [
    "len(curr.query('toKeep or toCutOut')), len(curr)"
   ]
  },
  {
   "cell_type": "code",
   "execution_count": 90,
   "metadata": {},
   "outputs": [
    {
     "data": {
      "text/plain": [
       "1307"
      ]
     },
     "execution_count": 90,
     "metadata": {},
     "output_type": "execute_result"
    }
   ],
   "source": [
    "30270 - 28963"
   ]
  },
  {
   "cell_type": "markdown",
   "metadata": {},
   "source": [
    "so current has only 1307 companies which are not in \"to keep\" or \"to cut out\". Remeber also that there are a few hundreds of companies which are in \"to keep\" and \"to cut out\" which are not in curr. This might be a descrepancy you need to look at."
   ]
  },
  {
   "cell_type": "markdown",
   "metadata": {},
   "source": [
    "# Seperating stuff"
   ]
  },
  {
   "cell_type": "markdown",
   "metadata": {},
   "source": [
    "now you can take what ever you like from it for example:"
   ]
  },
  {
   "cell_type": "code",
   "execution_count": 92,
   "metadata": {},
   "outputs": [
    {
     "data": {
      "text/plain": [
       "((18806, 108), (11464, 108))"
      ]
     },
     "execution_count": 92,
     "metadata": {},
     "output_type": "execute_result"
    }
   ],
   "source": [
    "cutted_out_from_current = curr.query('toCutOut')\n",
    "curr_without_cut_out_piece = curr.query('not toCutOut')\n",
    "cutted_out_from_current.shape, curr_without_cut_out_piece.shape"
   ]
  },
  {
   "cell_type": "code",
   "execution_count": 93,
   "metadata": {
    "collapsed": true
   },
   "outputs": [],
   "source": [
    "cutted_out_from_current.to_csv('cutted_out_from_current.csv', index = False)"
   ]
  },
  {
   "cell_type": "code",
   "execution_count": 94,
   "metadata": {
    "collapsed": true
   },
   "outputs": [],
   "source": [
    "curr_without_cut_out_piece.to_csv('curr_without_cut_out_piece.csv', index = False)"
   ]
  },
  {
   "cell_type": "markdown",
   "metadata": {},
   "source": [
    "Or:"
   ]
  },
  {
   "cell_type": "code",
   "execution_count": 96,
   "metadata": {},
   "outputs": [],
   "source": [
    "in_toKeep_but_not_in_curr = to_keep.query('not isInCurr')"
   ]
  },
  {
   "cell_type": "code",
   "execution_count": 97,
   "metadata": {
    "collapsed": true
   },
   "outputs": [],
   "source": [
    "in_toKeep_but_not_in_curr.to_csv('in_toKeep_but_not_in_curr.csv', index = False)"
   ]
  }
 ],
 "metadata": {
  "kernelspec": {
   "display_name": "Python 3",
   "language": "python",
   "name": "python3"
  },
  "language_info": {
   "codemirror_mode": {
    "name": "ipython",
    "version": 3
   },
   "file_extension": ".py",
   "mimetype": "text/x-python",
   "name": "python",
   "nbconvert_exporter": "python",
   "pygments_lexer": "ipython3",
   "version": "3.5.4"
  },
  "toc": {
   "nav_menu": {},
   "number_sections": false,
   "sideBar": true,
   "skip_h1_title": false,
   "toc_cell": false,
   "toc_position": {},
   "toc_section_display": "block",
   "toc_window_display": true
  }
 },
 "nbformat": 4,
 "nbformat_minor": 2
}
